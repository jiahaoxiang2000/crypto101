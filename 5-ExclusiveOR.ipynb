{
 "cells": [
  {
   "cell_type": "markdown",
   "metadata": {},
   "source": [
    "## 5.1 Description\n",
    "\n",
    "Another way to think of XOR is as something called a “**programmable inverter**”: one input bit decides whether to invert the other input bit, or to just pass it through unchanged. “Inverting” bits is colloquially called “flipping” bits, a term we'll use often throughout the book. \n",
    "\n",
    "In mathematics and cryptography papers, exclusive or is\n",
    "generally represented by a cross in a circle: $\\oplus$."
   ]
  },
  {
   "cell_type": "markdown",
   "metadata": {},
   "source": [
    "## 5.2 properties of XOR\n",
    "\n",
    "1. **Commutative**: $A \\oplus B = B \\oplus A$\n",
    "2. **Associative** for any order: $(A \\oplus B) \\oplus C = A \\oplus (B \\oplus C)$\n",
    "3. **Identity element**: $A \\oplus 0 = A$\n",
    "4. **Self-Inverse**: $A \\oplus A = 0$"
   ]
  }
 ],
 "metadata": {
  "kernelspec": {
   "display_name": "misc",
   "language": "python",
   "name": "python3"
  },
  "language_info": {
   "codemirror_mode": {
    "name": "ipython",
    "version": 3
   },
   "file_extension": ".py",
   "mimetype": "text/x-python",
   "name": "python",
   "nbconvert_exporter": "python",
   "pygments_lexer": "ipython3",
   "version": "3.11.9"
  }
 },
 "nbformat": 4,
 "nbformat_minor": 2
}
