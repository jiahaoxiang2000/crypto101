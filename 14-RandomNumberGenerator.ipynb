{
 "cells": [
  {
   "cell_type": "markdown",
   "metadata": {},
   "source": [
    "## 14.1 Introduction\n",
    "\n",
    "There are three categories of random number generation that we'll consider separately:\n",
    "- True random number generators\n",
    "- Pseudorandom number generators\n",
    "- Cryptographically secure pseudorandom number generators"
   ]
  },
  {
   "cell_type": "markdown",
   "metadata": {},
   "source": [
    "## 14.2 True Random Number Generators\n",
    "\n",
    "There are several categories of physical processes that are used for hardware random number generation:\n",
    "- Quantum processes\n",
    "- Thermal processes\n",
    "- Oscillator drift\n",
    "- Timing events"
   ]
  },
  {
   "cell_type": "markdown",
   "metadata": {},
   "source": [
    "## 14.3 Cryptographically secure pseudorandom generators\n",
    "\n",
    "Instead, in the few cases you really want to pick a random number manually, you should always use the cryptographically secure random number generator provided by your operating system: /dev/urandom on *NIX(Linux, BSDs, andOS X), or CryptGenRandom on Windows. Python provides handy interfaces to these in the form of os.urandom and random.SystemRandom."
   ]
  },
  {
   "cell_type": "markdown",
   "metadata": {},
   "source": [
    "## 14.6 Dual_EC_DRBG\n",
    "\n",
    "Dual_EC_DRBG is a NIST standard for a cryptographically secure pseudorandom bit generator. Cryptanalysis eventually demonstrated that the standard could contain a back door hidden in the constants specified by the standard, potentially allowing an unspecified attacker to completely break the random number generator."
   ]
  }
 ],
 "metadata": {
  "kernelspec": {
   "display_name": "misc",
   "language": "python",
   "name": "python3"
  },
  "language_info": {
   "codemirror_mode": {
    "name": "ipython",
    "version": 3
   },
   "file_extension": ".py",
   "mimetype": "text/x-python",
   "name": "python",
   "nbconvert_exporter": "python",
   "pygments_lexer": "ipython3",
   "version": "3.11.9"
  }
 },
 "nbformat": 4,
 "nbformat_minor": 2
}
