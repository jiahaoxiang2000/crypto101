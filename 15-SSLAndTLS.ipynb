{
 "cells": [
  {
   "cell_type": "markdown",
   "metadata": {},
   "source": [
    "## 15.1 Description\n",
    "\n",
    "SSL, short for Secure Socket Layer, is a cryptographic protocol originally introduced by Netscape Communications for securing traffic on the Web. The standard is now superseded by TLS (Transport Layer Security), a standard publicized in RFCs by the IETF."
   ]
  },
  {
   "cell_type": "markdown",
   "metadata": {},
   "source": [
    "It's a hybrid cryptosystem: it uses both symmetric and asymmetric algorithms in unison. For example, asymmetric algorithms such as signature algorithms can be used to **authenticate** peers, while **public key encryption** algorithms or Diffie-Hellman exchanges can be used to negotiate shared secrets and **authenticate certificates**. On the symmetric side, **stream** ciphers (both native ones and block ciphers in a **mode of operation**) are used to encrypt the actual data being transmitted, and **MAC** algorithms are used to authenticate that data."
   ]
  },
  {
   "cell_type": "markdown",
   "metadata": {},
   "source": [
    "## 15.2 Handshakes\n",
    "\n",
    "### Downgrade attacks\n",
    "\n",
    "SSL 2.0 made the mistake of not authenticating handshakes. This made it easy to mount downgrade attacks. A downgrade attack is a man-in-the-middle attack where an attacker modifies the handshake messages that negotiate which cipher suite is being used. That way, he can force the clients to set up the connection using an insecure block cipher."
   ]
  },
  {
   "cell_type": "markdown",
   "metadata": {},
   "source": [
    "## 15.3 Certificate authorities\n",
    "\n",
    "When someone actually tries to use a certificate to impersonate a bank, real browsers don't believe them. They notify the user that the certificate is untrusted. They do this using the standard TLS **trust** model of certificate **authorities**. TLS clients come with a list of trusted certificate authorities, commonly shipped with your *operating system or your browser*."
   ]
  },
  {
   "cell_type": "markdown",
   "metadata": {},
   "source": [
    "When a TLS client connects to a server, that server provides a **certificate chain**. Typically, their own certificate is signed by an intermediary CA certificate, which is signed by another, and another, and one that is signed by a trusted root certificate authority. Since the client already has a copy of that root certificate, they can verify the signature chain starting with the root.\n",
    "\n",
    "> TODO: explain how to verify a certificate "
   ]
  },
  {
   "cell_type": "markdown",
   "metadata": {},
   "source": [
    "### SSL/TLS Certificate Structure\n",
    "\n",
    "| Field Name          | Description                                                                 |\n",
    "|---------------------|-----------------------------------------------------------------------------|\n",
    "| Version             | The version of the X.509 standard used.                                      |\n",
    "| Serial Number       | A unique identifier for the certificate issued by the Certificate Authority (CA). |\n",
    "| Signature Algorithm | The algorithm used to sign the certificate.                                  |\n",
    "| Issuer              | The entity that verified the information and issued the certificate.         |\n",
    "| Valid From          | The start date and time from which the certificate is valid.                 |\n",
    "| Valid To            | The end date and time until which the certificate is valid.                  |\n",
    "| Subject             | The entity that the certificate belongs to (e.g., domain name, organization).|\n",
    "| Public Key          | The public key associated with the certificate.                              |"
   ]
  }
 ],
 "metadata": {
  "kernelspec": {
   "display_name": "misc",
   "language": "python",
   "name": "python3"
  },
  "language_info": {
   "name": "python",
   "version": "3.11.9"
  }
 },
 "nbformat": 4,
 "nbformat_minor": 2
}
