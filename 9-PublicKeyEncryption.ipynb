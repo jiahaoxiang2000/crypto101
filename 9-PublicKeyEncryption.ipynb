{
 "cells": [
  {
   "cell_type": "markdown",
   "metadata": {},
   "source": [
    "## 9.1 Description\n",
    "\n",
    "People can encrypt information intended for you by using your public key. The information is then impossible to decipher without your private key. This is called *public-key encryption*."
   ]
  },
  {
   "cell_type": "markdown",
   "metadata": {},
   "source": [
    "## 9.2 Why not use public-key encryption for everything?\n",
    "\n",
    "RSA is limited to at most its key size, which for 2048-bit means 256 bytes. Under these circumstances encryption takes 0.29 megacycles, and decryption takes a whopping 11.12 megacycles.\n",
    "This means it will take a symmetric key algorithm approximately 3 kilocycles in order to decrypt 256 bytes, which is about **4000 times** faster than the asymmetric version."
   ]
  },
  {
   "cell_type": "markdown",
   "metadata": {},
   "source": [
    "##  9.3 RSA\n",
    "\n",
    "### Encryption and decryption\n",
    "\n",
    "In order to generate a key, you pick two large prime numbers $p$ and $q$. These numbers have to be picked at random, and in secret. You multiply them together to produce the modulus $N$, which is public. Then, you pick an encryption exponent $e$, which is also public.\n",
    "\n",
    "$$\n",
    "\\begin{split}\n",
    "ENC \\quad & C \\equiv M^e \\pmod N \\\\\n",
    "DEC \\quad & M \\equiv C^d \\pmod N\n",
    "\\end{split}\n",
    "$$\n",
    "\n",
    "The decryption exponent $d$ is calculated as the modular multiplicative inverse of $e$ modulo $\\phi(N)$, where $\\phi(N) = (p-1)(q-1)$."
   ]
  },
  {
   "cell_type": "markdown",
   "metadata": {},
   "source": [
    "### Breaking RSA\n",
    "\n",
    "For RSA, this is the RSA problem, specifically: to find the plaintext message $M$, given a ciphertext $C$, and public key $(N, e)$ in the\n",
    "equation:\n",
    "$$C \\equiv M^e \\pmod N$$\n",
    "The easiest way we know how to do that is to factor $N$ back into $p \\cdot q$. Given $p$ and $q$, the attacker can just repeat the process that the legitimate owner of the key does during key generation in order to compute the private exponent $d$.\n"
   ]
  }
 ],
 "metadata": {
  "kernelspec": {
   "display_name": "misc",
   "language": "python",
   "name": "python3"
  },
  "language_info": {
   "codemirror_mode": {
    "name": "ipython",
    "version": 3
   },
   "file_extension": ".py",
   "mimetype": "text/x-python",
   "name": "python",
   "nbconvert_exporter": "python",
   "pygments_lexer": "ipython3",
   "version": "3.11.9"
  }
 },
 "nbformat": 4,
 "nbformat_minor": 2
}
