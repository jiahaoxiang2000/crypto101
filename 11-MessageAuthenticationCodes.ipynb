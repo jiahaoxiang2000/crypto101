{
 "cells": [
  {
   "cell_type": "markdown",
   "metadata": {},
   "source": [
    "## 11.1 Description\n",
    "\n",
    "A MAC is a small bit of information that can be used to check the authenticity and the integrity of a message. These codes are often called “tags”. A MAC algorithm takes a **message** of arbitrary length and a secret **key** of fixed length, and produces the **tag**."
   ]
  },
  {
   "cell_type": "markdown",
   "metadata": {
    "vscode": {
     "languageId": "plaintext"
    }
   },
   "source": [
    "### Secure MACs\n",
    "\n",
    "An attacker will then attempt to produce an *existential forgery*, a fancy way of saying that they will produce some new valid combination of $(m, t)$. We will also consider the MAC insecure if an attacker can compute a new, different valid tag $t'$ for a message $m_i$ that we previously gave them a valid tag for."
   ]
  },
  {
   "cell_type": "markdown",
   "metadata": {},
   "source": [
    "### Why does a MAC take a secret key?\n",
    "\n",
    "You have some tarballs with source code in them, and maybe some binary packages for popular operating systems. Then you put some (cryptographically secure!) hashes right next to them, so that anyone who downloads them can verify the hashes and be confident that they downloaded what they think they downloaded.\n",
    "\n",
    "Computing those hashes is something everyone can do. You're even relying on that fact for your user to be able to verify their download. That also means that an attacker that modified any of the downloads can just compute the hash again for the modified download and save that value.\n",
    "\n",
    "> if no the secret key, the tag anybody can do, so it is no authenticate. But other issue is how to transmit the correct secret key."
   ]
  },
  {
   "cell_type": "markdown",
   "metadata": {
    "vscode": {
     "languageId": "plaintext"
    }
   },
   "source": [
    "### 11.2 Combining MAC and message\n",
    "\n",
    "There are three common ways to combine a ciphertext with a MAC.\n",
    "1. Authenticate and encrypt. This is how **SSH** does it. In symbols: $C = E(K_C, P)$, $t = MAC(K_M, P)$, and you send both ciphertext $C$ and tag $t$.\n",
    "2. Authenticate, then encrypt. This is how **TLS** usually does it. In symbols: $t = MAC(K_M, P)$, $C = E(K_C, P∥t)$, and you only send $C$.\n",
    "3. Encrypt, then authenticate. This is how **IPSec** does it. In symbols: $C = E(K_C, P)$, $t = MAC(K_M,C)$, and you send both $C$ and $t$.\n",
    "\n",
    "\n",
    "We now know that out of all of these, encrypt-then-authenticate is unequivocally the best option."
   ]
  },
  {
   "cell_type": "markdown",
   "metadata": {
    "vscode": {
     "languageId": "plaintext"
    }
   },
   "source": [
    "### Authenticate-then-encrypt\n",
    "\n",
    "Authenticate-then-encrypt is a poor choice, but it's a subtle poor choice. It can still be provably secure, but only under certain conditions.\n",
    "\n",
    "### Authenticate-and-encrypt\n",
    "\n",
    "\n",
    "Authenticate-and-encrypt has some serious problems. Since the tag authenticates the plaintext and that tag is part of the transmitted message, an attacker will be able to recognize two plaintext messages are the same because their tags will also be the same."
   ]
  }
 ],
 "metadata": {
  "language_info": {
   "name": "python"
  }
 },
 "nbformat": 4,
 "nbformat_minor": 2
}
