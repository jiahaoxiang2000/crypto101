{
 "cells": [
  {
   "cell_type": "markdown",
   "metadata": {},
   "source": [
    "## 10.1 Description\n",
    "\n",
    "Hash functions are functions that take an input of indeterminate length and produce a fixed-length value, also known as a “digest”.\n",
    "\n",
    "\n",
    "For a cryptographic hash function, we want it to be impossibly hard to:\n",
    "1. modify a message without changing the hash.\n",
    "2. generate a message that has a given hash.\n",
    "3. find two different messages with the same hash."
   ]
  },
  {
   "cell_type": "markdown",
   "metadata": {},
   "source": [
    "## 10.2 MD5\n",
    "\n",
    "In 2004, based on Dobbertinʼs work, Xiaoyun Wang, Dengguo Feng, Xuejia Lai and Hongbo Yu showed that MD5 is vulnerable to real collision attacks. The last straw came when Xiaoyun Wang et al. managed to generate colliding X.509 certificates and then presented a distinguishing attack on HMAC-MD5.\n",
    "\n"
   ]
  },
  {
   "cell_type": "code",
   "execution_count": 10,
   "metadata": {},
   "outputs": [
    {
     "data": {
      "text/plain": [
       "'682e475edabffbe9870bf44a2c699e5b'"
      ]
     },
     "execution_count": 10,
     "metadata": {},
     "output_type": "execute_result"
    }
   ],
   "source": [
    "import hashlib\n",
    "\n",
    "hashlib.md5(b\"crypto101\").hexdigest()"
   ]
  },
  {
   "cell_type": "markdown",
   "metadata": {},
   "source": [
    "## 10.3 SHA-1\n",
    "\n",
    "SHA-1 is another hash function from the MD4 family designed by the NSA, which produces a 160-bit digest. In the past methods to cause collisions on reduced versions of SHA-1 have been published, including one by Xiaoyun Wang. “The SHAppening” demonstrated freestart collisions for SHA-1."
   ]
  },
  {
   "cell_type": "code",
   "execution_count": 11,
   "metadata": {},
   "outputs": [
    {
     "data": {
      "text/plain": [
       "'0ce9daa99428182f2196c29e55919c18e2e76a6d'"
      ]
     },
     "execution_count": 11,
     "metadata": {},
     "output_type": "execute_result"
    }
   ],
   "source": [
    "import hashlib\n",
    "\n",
    "hashlib.sha1(b\"crypto101\").hexdigest()"
   ]
  },
  {
   "cell_type": "markdown",
   "metadata": {},
   "source": [
    "## 10.4 SHA-2\n",
    "\n",
    "SHA-2 is a family of hash functions including SHA-224, SHA-256, SHA-384, SHA-512, SHA-512/224 and SHA-512/256 and their digest sizes 224, 256, 384, 512, 224 and 256 respectively.\n",
    "\n",
    "It is important to note that by removing a certain amount of rounds one can't attack the entire algorithm. For instance, Somitra Kumar Sanadhya and Palash Sarkar were able to cause collisions with SHA-256 using 24 of 64 rounds (removing the last 40 rounds). [SS08]"
   ]
  },
  {
   "cell_type": "code",
   "execution_count": 9,
   "metadata": {},
   "outputs": [
    {
     "data": {
      "text/plain": [
       "56"
      ]
     },
     "execution_count": 9,
     "metadata": {},
     "output_type": "execute_result"
    }
   ],
   "source": [
    "import hashlib\n",
    "\n",
    "len(hashlib.sha224(b\"\").hexdigest())"
   ]
  },
  {
   "cell_type": "markdown",
   "metadata": {},
   "source": [
    "## 10.5 Keccak and SHA-3\n",
    "\n",
    "Keccak is a family of sponge functions designed by Guido Bertoni, Joan Daemen, Gilles Van Assche and Michaël Peeters, which won NISTʼs Secure Hash Algorithm Competition in 2012.\n",
    "\n",
    "Although SHA-3 sounds like it might come from the same family as SHA-2, the two are designed very differently. SHA-3 is very efficient in hardware [Hua], but is relatively slow in software in comparison to SHA-2."
   ]
  },
  {
   "cell_type": "code",
   "execution_count": 12,
   "metadata": {},
   "outputs": [
    {
     "data": {
      "text/plain": [
       "'789f90b056ed55483b52fd1dc5650fabf0b3dd08288c7016b2616561'"
      ]
     },
     "execution_count": 12,
     "metadata": {},
     "output_type": "execute_result"
    }
   ],
   "source": [
    "import hashlib\n",
    "\n",
    "hashlib.sha3_224(b\"crypto101\").hexdigest()"
   ]
  },
  {
   "cell_type": "markdown",
   "metadata": {},
   "source": [
    "##  10.6 Password storage\n",
    "\n",
    "### Hash functions to the rescue\n",
    "\n",
    "Since the hash function is easy to compute, whenever the user provides their password, you can just compute the hash value of that, and compare that to what you stored in the database."
   ]
  },
  {
   "cell_type": "markdown",
   "metadata": {},
   "source": [
    "### Rainbow tables\n",
    "\n",
    "Even with very good password practices, they're strings somewhere between 10 and 20 characters, consisting mostly of things that you can type on common keyboards. In practice though, people use even worse passwords: things based on real words (password, swordfish), consisting of few symbols and few symbol types (1234), or with predictable modifications of the above (passw0rd).\n",
    "\n",
    "That's exactly what some people did, and the tables were just as effective as you'd expect them to be, completely breaking any vulnerable password store.\n",
    "\n",
    "> we use this to attack wifi passwords on WPA2."
   ]
  },
  {
   "cell_type": "markdown",
   "metadata": {},
   "source": [
    "### Salts\n",
    "\n",
    "This problem was generally solved by using *salts*. By **mixing** (appending or prepending) the password with some **random value** before hashing it, you could produce completely different hash values out of the same hash function."
   ]
  },
  {
   "cell_type": "markdown",
   "metadata": {},
   "source": [
    "## 10.7 Length extension attacks\n",
    "\n",
    "In some poorly engineered systems, that causes a critical flaw: if an attacker knows $H(M_1)$, it's very simple to compute $H(M_1∥M_2)$, without actually knowing the value of $M_1$."
   ]
  },
  {
   "cell_type": "markdown",
   "metadata": {},
   "source": [
    "## 10.8 Hash trees\n",
    "\n",
    "Hash trees are trees where each node is identified by a hash value, consisting of its contents and the hash value of its ancestor.\n",
    "\n",
    "Systems like these or their variants are used by many systems, particularly distributed systems. Examples include distributed version control systems such as Git, digital currencies such as Bitcoin, distributed peer-to-peer networks like Bittorrent, and distributed databases such as Cassandra."
   ]
  },
  {
   "cell_type": "markdown",
   "metadata": {},
   "source": [
    "## 10.9 Remaining issues\n",
    "\n",
    "We've already illustrated that hash functions, by themselves, can't authenticate messages, because anyone can compute them. Also, we've illustrated that hash functions can't be used to secure passwords."
   ]
  }
 ],
 "metadata": {
  "kernelspec": {
   "display_name": "misc",
   "language": "python",
   "name": "python3"
  },
  "language_info": {
   "codemirror_mode": {
    "name": "ipython",
    "version": 3
   },
   "file_extension": ".py",
   "mimetype": "text/x-python",
   "name": "python",
   "nbconvert_exporter": "python",
   "pygments_lexer": "ipython3",
   "version": "3.11.9"
  }
 },
 "nbformat": 4,
 "nbformat_minor": 2
}
